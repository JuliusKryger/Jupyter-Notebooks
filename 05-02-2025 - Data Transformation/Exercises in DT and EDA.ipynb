{
 "cells": [
  {
   "cell_type": "markdown",
   "id": "d9fd35ba-49c5-45f7-b7fd-433b5904925b",
   "metadata": {},
   "source": [
    "# Exercises in Data Transformation and Exploratory Data Analysis\n",
    "\n",
    "This notebook contains the exercises for the class of February 5, 2025, in the course Data & Things at Roskilde University."
   ]
  },
  {
   "cell_type": "code",
   "execution_count": null,
   "id": "94f30084-176c-460e-afc7-15f0842964c5",
   "metadata": {},
   "outputs": [],
   "source": [
    "import numpy as np\n",
    "import pandas as pd\n",
    "import matplotlib.pyplot as plt\n",
    "import seaborn as sns"
   ]
  },
  {
   "cell_type": "markdown",
   "id": "aae57bca",
   "metadata": {},
   "source": [
    "## Exercise 1\n",
    "\n",
    "Plot the number of Cinemas in Danmark over the years. The next cell loads in the needed data for you if you have the file \"DK_cinemas.csv\" in the same folder as this notebook. "
   ]
  },
  {
   "cell_type": "code",
   "execution_count": null,
   "id": "821d9b59",
   "metadata": {},
   "outputs": [],
   "source": [
    "cinema_data = pd.read_csv('DK_cinemas.csv', sep=\";\")\n",
    "years = cinema_data[\"Year\"].tolist()\n",
    "cinemas = cinema_data[\"Cinemas\"].tolist()"
   ]
  },
  {
   "cell_type": "code",
   "execution_count": null,
   "id": "f6638f92",
   "metadata": {},
   "outputs": [],
   "source": []
  },
  {
   "cell_type": "markdown",
   "id": "ec88fe87",
   "metadata": {},
   "source": [
    "## Exercise 2\n",
    "\n",
    "In this exercise, we are going to use the `penguins` dataset from the Seaborn package. The cell below loads the data"
   ]
  },
  {
   "cell_type": "code",
   "execution_count": null,
   "id": "6d9554b6-3563-4c1e-9e93-560c4e79bca4",
   "metadata": {},
   "outputs": [],
   "source": [
    "penguins_data = sns.load_dataset(\"penguins\")"
   ]
  },
  {
   "cell_type": "markdown",
   "id": "2aacb3ac-8332-4fb1-acf4-52f7ba4ac19d",
   "metadata": {},
   "source": [
    "Based on the `Penguins` dataset, answer the following questions:\n",
    "\n",
    "1. Make a barplot that shows how many penguins there are of each species in the dataset. Support the plot by calculating the numbers.\n",
    "2. Make a barplot that shows the average body mass for each species of penguin. Support the plot by calculating the numbers\n",
    "3. Make a boxplots that shows the distribution of the body mass for each species of penguin. Support the plot by calculating the numbers.\n",
    "4. Make a scatterplot that shows the correlation between body mass (in g) and flipper length (in mm). Support the plot by calculating the numbers.\n",
    "5. Use boxplots and histograms to show how bill length, bill depth, flipper length and body mass varies between species and sex.\n",
    "6. Visualise how the linear correlation between body mass and flipper length varies between species and sex."
   ]
  },
  {
   "cell_type": "code",
   "execution_count": null,
   "id": "31267bb8-28a0-441a-abc9-a16e192d414d",
   "metadata": {},
   "outputs": [],
   "source": []
  },
  {
   "cell_type": "markdown",
   "id": "0e69bde3",
   "metadata": {},
   "source": [
    "## Exercise 3\n",
    "\n",
    "Do an exploratory data analysis of the adult dataset. The cell below loads the dataset from UCI Machine Learning Repository into a pandas dataframe called `adult_data`. It requires that you have installed the package `ucimlrepo`. (Otherwise the dataset is on model for this class.)"
   ]
  },
  {
   "cell_type": "code",
   "execution_count": null,
   "id": "3d3195b4",
   "metadata": {},
   "outputs": [],
   "source": [
    "from ucimlrepo import fetch_ucirepo \n",
    "adult = fetch_ucirepo(id=2) \n",
    "X = adult.data.features \n",
    "y = adult.data.targets \n",
    "X[\"income\"] = y\n",
    "adult_data = X.copy()\n",
    "\n",
    "adult_data"
   ]
  },
  {
   "cell_type": "code",
   "execution_count": null,
   "id": "149e3bd1",
   "metadata": {},
   "outputs": [],
   "source": []
  },
  {
   "cell_type": "markdown",
   "id": "df003ab3",
   "metadata": {},
   "source": [
    "## Exercise 4\n",
    "\n",
    "Complete an exploratory data analysis of the titanic dataset (it is on moodle). (Remember, you can load it in as `titanic_data = pd.read_csv(\"titanic_survival_data.csv\")`)"
   ]
  },
  {
   "cell_type": "code",
   "execution_count": null,
   "id": "4f816e5c-5aab-4e16-b9e9-b8e5656ebcd6",
   "metadata": {},
   "outputs": [],
   "source": []
  },
  {
   "cell_type": "markdown",
   "id": "610cbd0d-a863-4522-bfb1-afab6d13b998",
   "metadata": {},
   "source": [
    "## Exercise 5\n",
    "\n",
    "Do an exploratory data analysis of the diabetes dataset. The cell below loads the dataset from the scikit learn package into the pandas dataframe called `diabetes_data`."
   ]
  },
  {
   "cell_type": "code",
   "execution_count": null,
   "id": "e13a21f6-06db-4b56-b8d1-ea1fefa07c7e",
   "metadata": {},
   "outputs": [],
   "source": [
    "from sklearn.datasets import load_diabetes\n",
    "d_data = load_diabetes(as_frame=True)\n",
    "diabetes_data = d_data.data\n",
    "diabetes_data[\"Target\"] = d_data.target\n",
    "\n",
    "diabetes_data"
   ]
  },
  {
   "cell_type": "code",
   "execution_count": null,
   "id": "f803ab7b-f8cb-4ea1-bafd-055369a5c2fe",
   "metadata": {},
   "outputs": [],
   "source": []
  }
 ],
 "metadata": {
  "kernelspec": {
   "display_name": "Python 3 (ipykernel)",
   "language": "python",
   "name": "python3"
  },
  "language_info": {
   "codemirror_mode": {
    "name": "ipython",
    "version": 3
   },
   "file_extension": ".py",
   "mimetype": "text/x-python",
   "name": "python",
   "nbconvert_exporter": "python",
   "pygments_lexer": "ipython3",
   "version": "3.12.8"
  }
 },
 "nbformat": 4,
 "nbformat_minor": 5
}
