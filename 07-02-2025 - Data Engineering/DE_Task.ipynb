{
 "cells": [
  {
   "cell_type": "markdown",
   "metadata": {
    "id": "3kQ3BvyLehMH"
   },
   "source": [
    "## **Data Engineering Task Notebook**\n",
    "\n",
    "This notebook is designed to test you through various Data Engineering tasks using the Online Retail II dataset. The tasks will help you develop essential skills in data cleaning, feature engineering, and transforming raw data into valuable insights. You'll explore tasks like handling missing values, aggregating data, creating new features, and performing data joins to simulate real-world data workflows. These tasks will prepare you for more advanced data manipulation and analysis, enhancing your ability to work with large, complex datasets."
   ]
  },
  {
   "cell_type": "markdown",
   "metadata": {
    "id": "-6dqpBX8eayc"
   },
   "source": [
    "# **About the Dataset**\n",
    "This Online Retail II dataset contains transactional data from a UK-based online retailer selling unique gift-ware. The data covers transactions that occurred between December 1, 2009 and December 9, 2011. The retailer primarily serves both individual customers and wholesalers. The products sold by the company are all-occasion gift items, including home décor, kitchenware, and other unique items.\n",
    "\n",
    "The dataset includes detailed information on each transaction, providing valuable insights into customer behavior, sales trends, and product performance over time.\n",
    "\n",
    "\n",
    "\n",
    "## **What can be done with this dataset?**\n",
    "\n",
    "**Customer Behavior Analysis:** Explore purchasing patterns, repeat customers, and sales volume across different customer segments.\n",
    "\n",
    "**Sales Forecasting:** Predict future sales by analyzing past transactions, including seasonal trends and demand fluctuations.\n",
    "\n",
    "**Market Segmentation:** Identify customer groups based on purchase history and demographic data (e.g., by Country).\n",
    "\n",
    "**Product Performance:** Analyze which products are bestsellers and which have low turnover, and how prices influence sales.\n",
    "\n",
    "**Time Series Analysis:** Study trends over time, including hourly, daily, and monthly sales volumes, and identify peak shopping periods.\n",
    "\n",
    "**Anomaly Detection:** Detect potential fraudulent transactions, cancellations, or unusually high sales activity.\n",
    "Association Rule Mining: Discover products that are often purchased together and identify cross-sell opportunities.\n",
    "\n",
    "\n",
    "\n",
    "## **Key Attributes in the Dataset:**\n",
    "\n",
    "**InvoiceNo:** Unique transaction identifier (with cancellations indicated by 'C' prefix).\n",
    "\n",
    "**StockCode:** Unique product code for each item sold.\n",
    "\n",
    "**Description:** Name of the product/item sold.\n",
    "\n",
    "**Quantity:** Quantity of each product sold in the transaction\n",
    ".\n",
    "**InvoiceDate:** Date and time of the transaction.\n",
    "\n",
    "**UnitPrice:** Price per unit of the product.\n",
    "\n",
    "**CustomerID:** Unique identifier for each customer.\n",
    "\n",
    "**Country:** The country where the customer resides.\n",
    "\n",
    "This dataset is a great resource for learning and practicing various data analysis, machine learning, and business intelligence techniques."
   ]
  },
  {
   "cell_type": "markdown",
   "metadata": {
    "id": "pM9Nu--GV-9y"
   },
   "source": [
    "## **Exercise**\n",
    "Complete the following tasks:\n",
    "1. Load the [dataset](https://www.kaggle.com/datasets/lakshmi25npathi/online-retail-dataset) from Kaggle.\n",
    "2. Visualize the dataset and it's structure using appropriate libraries and plots.\n",
    "3. Do some basic cleaning to handle missing values\n",
    "4. Create the following features:\n",
    "  *   Revenue\n",
    "  *   DayOfWeek: to analyze sales trends by weekdays.\n",
    "  *   TotalRevenue for each CustomerID\n",
    "  *   Most popular product based on Revenue.\n",
    "  *   Ordersize by summing Quantity for each InvoiceNo\n",
    "5. Apply a lambda function to:\n",
    "  * Segment customers into tiers based on TotalRevenue (e.g., \"High\", \"Medium\", \"Low\").\n",
    "  * Extract key information from Description and add them as columns (e.g., presence of specific keywords like \"Gift\" or \"Discount\"). At least one extra column should be added\n",
    "  * Categorize transactions as \"Small\", \"Medium\", or \"Large\" based on Revenue.\n",
    "  * **Detect Seasonal Items:** Flag items as \"Christmas\"-themed if the description contains relevant words.\n",
    "  * Classify customers as \"Loyal\", \"Occasional\", or \"One-time\" based on the number of purchases.\n",
    "  *  **Identify Multi-Item Invoices:** Flag invoices with multiple unique items as \"Multi-Item Order\".\n",
    "7. Wrap all fo the above into an ETL pipeline.\n",
    "\n",
    "Extra tasks for practicing GroupBy\n",
    "1. Join CustomerID with TotalRevenue to create Customer_Revenue column\n",
    "2. Group by Country to find total revenue, total customers, and average order size per country.\n",
    "3. Group by StockCode to find top-selling products by quantity.\n",
    "4. Group by CustomerID to calculate the average order value or frequency of purchases.\n",
    "\n",
    "\n",
    "\n",
    "\n",
    "\n",
    "\n",
    "\n",
    "             \n",
    "\n",
    "\n",
    "\n",
    "\n",
    "\n",
    "\n"
   ]
  },
  {
   "cell_type": "code",
   "execution_count": 5,
   "metadata": {
    "executionInfo": {
     "elapsed": 2663,
     "status": "ok",
     "timestamp": 1738235045392,
     "user": {
      "displayName": "Sadaf Akhter",
      "userId": "13505825868431108941"
     },
     "user_tz": -360
    },
    "id": "GYdhe-Du1eHp"
   },
   "outputs": [],
   "source": [
    "import pandas as pd\n",
    "import numpy as np\n",
    "import matplotlib.pyplot as plt\n",
    "import seaborn as sns\n",
    "import kagglehub\n",
    "import os"
   ]
  },
  {
   "cell_type": "code",
   "execution_count": 6,
   "metadata": {
    "colab": {
     "base_uri": "https://localhost:8080/"
    },
    "executionInfo": {
     "elapsed": 4159,
     "status": "ok",
     "timestamp": 1738235049546,
     "user": {
      "displayName": "Sadaf Akhter",
      "userId": "13505825868431108941"
     },
     "user_tz": -360
    },
    "id": "O7c3o9JK1kKz",
    "outputId": "92db808b-6a34-4193-b6b6-e8cac6437aef"
   },
   "outputs": [
    {
     "name": "stdout",
     "output_type": "stream",
     "text": [
      "Path to dataset files: /home/jovyan/.cache/kagglehub/datasets/lakshmi25npathi/online-retail-dataset/versions/1\n"
     ]
    }
   ],
   "source": [
    "path = kagglehub.dataset_download(\"lakshmi25npathi/online-retail-dataset\")\n",
    "\n",
    "print(\"Path to dataset files:\", path)"
   ]
  },
  {
   "cell_type": "code",
   "execution_count": 7,
   "metadata": {
    "colab": {
     "base_uri": "https://localhost:8080/"
    },
    "executionInfo": {
     "elapsed": 7,
     "status": "ok",
     "timestamp": 1738235049546,
     "user": {
      "displayName": "Sadaf Akhter",
      "userId": "13505825868431108941"
     },
     "user_tz": -360
    },
    "id": "co3ZBAL51uhi",
    "outputId": "2d783fb0-9a5f-4374-b09a-6227aea59645"
   },
   "outputs": [
    {
     "name": "stdout",
     "output_type": "stream",
     "text": [
      "['online_retail_II.xlsx']\n"
     ]
    }
   ],
   "source": [
    "dataset_path = \"/home/jovyan/.cache/kagglehub/datasets/lakshmi25npathi/online-retail-dataset/versions/1\"\n",
    "\n",
    "files = os.listdir(dataset_path)\n",
    "print(files)\n"
   ]
  },
  {
   "cell_type": "code",
   "execution_count": 8,
   "metadata": {
    "executionInfo": {
     "elapsed": 65950,
     "status": "ok",
     "timestamp": 1738235115491,
     "user": {
      "displayName": "Sadaf Akhter",
      "userId": "13505825868431108941"
     },
     "user_tz": -360
    },
    "id": "dpcmsUgf10QH"
   },
   "outputs": [],
   "source": [
    "file_path = \"/home/jovyan/.cache/kagglehub/datasets/lakshmi25npathi/online-retail-dataset/versions/1/online_retail_II.xlsx\"\n",
    "\n",
    "df = pd.read_excel(file_path)"
   ]
  },
  {
   "cell_type": "code",
   "execution_count": 9,
   "metadata": {
    "colab": {
     "base_uri": "https://localhost:8080/"
    },
    "executionInfo": {
     "elapsed": 14,
     "status": "ok",
     "timestamp": 1738235115491,
     "user": {
      "displayName": "Sadaf Akhter",
      "userId": "13505825868431108941"
     },
     "user_tz": -360
    },
    "id": "SJd_azvt2C62",
    "outputId": "04e1d0a3-a172-4329-eb2a-a05a19a4c556"
   },
   "outputs": [
    {
     "name": "stdout",
     "output_type": "stream",
     "text": [
      "  Invoice StockCode                          Description  Quantity  \\\n",
      "0  489434     85048  15CM CHRISTMAS GLASS BALL 20 LIGHTS        12   \n",
      "1  489434    79323P                   PINK CHERRY LIGHTS        12   \n",
      "2  489434    79323W                  WHITE CHERRY LIGHTS        12   \n",
      "3  489434     22041         RECORD FRAME 7\" SINGLE SIZE         48   \n",
      "4  489434     21232       STRAWBERRY CERAMIC TRINKET BOX        24   \n",
      "\n",
      "          InvoiceDate  Price  Customer ID         Country  \n",
      "0 2009-12-01 07:45:00   6.95      13085.0  United Kingdom  \n",
      "1 2009-12-01 07:45:00   6.75      13085.0  United Kingdom  \n",
      "2 2009-12-01 07:45:00   6.75      13085.0  United Kingdom  \n",
      "3 2009-12-01 07:45:00   2.10      13085.0  United Kingdom  \n",
      "4 2009-12-01 07:45:00   1.25      13085.0  United Kingdom  \n"
     ]
    }
   ],
   "source": [
    "print(df.head())"
   ]
  },
  {
   "cell_type": "code",
   "execution_count": 10,
   "metadata": {
    "colab": {
     "base_uri": "https://localhost:8080/"
    },
    "executionInfo": {
     "elapsed": 12,
     "status": "ok",
     "timestamp": 1738235115492,
     "user": {
      "displayName": "Sadaf Akhter",
      "userId": "13505825868431108941"
     },
     "user_tz": -360
    },
    "id": "Lph_J0Yn2lPk",
    "outputId": "9ee9b13f-779c-44db-a234-55c35e052335"
   },
   "outputs": [
    {
     "name": "stdout",
     "output_type": "stream",
     "text": [
      "<class 'pandas.core.frame.DataFrame'>\n",
      "RangeIndex: 525461 entries, 0 to 525460\n",
      "Data columns (total 8 columns):\n",
      " #   Column       Non-Null Count   Dtype         \n",
      "---  ------       --------------   -----         \n",
      " 0   Invoice      525461 non-null  object        \n",
      " 1   StockCode    525461 non-null  object        \n",
      " 2   Description  522533 non-null  object        \n",
      " 3   Quantity     525461 non-null  int64         \n",
      " 4   InvoiceDate  525461 non-null  datetime64[ns]\n",
      " 5   Price        525461 non-null  float64       \n",
      " 6   Customer ID  417534 non-null  float64       \n",
      " 7   Country      525461 non-null  object        \n",
      "dtypes: datetime64[ns](1), float64(2), int64(1), object(4)\n",
      "memory usage: 32.1+ MB\n",
      "None\n"
     ]
    }
   ],
   "source": [
    "print(df.info())"
   ]
  },
  {
   "cell_type": "code",
   "execution_count": 11,
   "metadata": {
    "colab": {
     "base_uri": "https://localhost:8080/"
    },
    "executionInfo": {
     "elapsed": 1199,
     "status": "ok",
     "timestamp": 1738235116682,
     "user": {
      "displayName": "Sadaf Akhter",
      "userId": "13505825868431108941"
     },
     "user_tz": -360
    },
    "id": "22LeyyfJ2edS",
    "outputId": "dfd3ecfd-6936-430f-fbc4-efe0ac4a6d5d"
   },
   "outputs": [
    {
     "name": "stdout",
     "output_type": "stream",
     "text": [
      "Invoice             0\n",
      "StockCode           0\n",
      "Description      2928\n",
      "Quantity            0\n",
      "InvoiceDate         0\n",
      "Price               0\n",
      "Customer ID    107927\n",
      "Country             0\n",
      "dtype: int64\n"
     ]
    }
   ],
   "source": [
    "print(df.isnull().sum())"
   ]
  },
  {
   "cell_type": "code",
   "execution_count": 12,
   "metadata": {
    "colab": {
     "base_uri": "https://localhost:8080/"
    },
    "executionInfo": {
     "elapsed": 2156,
     "status": "ok",
     "timestamp": 1738235118834,
     "user": {
      "displayName": "Sadaf Akhter",
      "userId": "13505825868431108941"
     },
     "user_tz": -360
    },
    "id": "8vGLQ9cA3TV-",
    "outputId": "f208ff69-3f35-47bd-9b9c-2949314420ba"
   },
   "outputs": [
    {
     "name": "stdout",
     "output_type": "stream",
     "text": [
      "Invoice        0\n",
      "StockCode      0\n",
      "Description    0\n",
      "Quantity       0\n",
      "InvoiceDate    0\n",
      "Price          0\n",
      "Customer ID    0\n",
      "Country        0\n",
      "dtype: int64\n"
     ]
    }
   ],
   "source": [
    "# Fill missing 'Description' using the most common value per 'StockCode'\n",
    "df['Description'] = df.groupby('StockCode')['Description'].transform(lambda x: x.fillna(x.mode()[0]) if not x.mode().empty else x)\n",
    "\n",
    "#Drop rows where 'Customer ID' is missing\n",
    "df = df.dropna(subset=['Customer ID'])\n",
    "\n",
    "print(df.isnull().sum())\n"
   ]
  },
  {
   "cell_type": "code",
   "execution_count": 13,
   "metadata": {
    "colab": {
     "base_uri": "https://localhost:8080/"
    },
    "executionInfo": {
     "elapsed": 1520,
     "status": "ok",
     "timestamp": 1738235120348,
     "user": {
      "displayName": "Sadaf Akhter",
      "userId": "13505825868431108941"
     },
     "user_tz": -360
    },
    "id": "FPIFYje_301D",
    "outputId": "7f3ae8d8-883f-4943-9450-29f9b1d8b738"
   },
   "outputs": [
    {
     "name": "stdout",
     "output_type": "stream",
     "text": [
      "6771\n"
     ]
    }
   ],
   "source": [
    "print(df.duplicated().sum())"
   ]
  },
  {
   "cell_type": "code",
   "execution_count": 14,
   "metadata": {
    "colab": {
     "base_uri": "https://localhost:8080/"
    },
    "executionInfo": {
     "elapsed": 7,
     "status": "ok",
     "timestamp": 1738235120349,
     "user": {
      "displayName": "Sadaf Akhter",
      "userId": "13505825868431108941"
     },
     "user_tz": -360
    },
    "id": "GtVhcBDC4CQU",
    "outputId": "ffebf3a2-53df-469b-e71b-2ada7d1df6e1"
   },
   "outputs": [
    {
     "name": "stdout",
     "output_type": "stream",
     "text": [
      "0\n"
     ]
    }
   ],
   "source": [
    "df.drop_duplicates(inplace=True)\n",
    "print(df.duplicated().sum())"
   ]
  }
 ],
 "metadata": {
  "colab": {
   "provenance": []
  },
  "kernelspec": {
   "display_name": "Python 3 (ipykernel)",
   "language": "python",
   "name": "python3"
  },
  "language_info": {
   "codemirror_mode": {
    "name": "ipython",
    "version": 3
   },
   "file_extension": ".py",
   "mimetype": "text/x-python",
   "name": "python",
   "nbconvert_exporter": "python",
   "pygments_lexer": "ipython3",
   "version": "3.11.6"
  }
 },
 "nbformat": 4,
 "nbformat_minor": 0
}
